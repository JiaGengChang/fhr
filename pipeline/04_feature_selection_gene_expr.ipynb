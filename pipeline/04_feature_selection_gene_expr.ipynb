{
 "cells": [
  {
   "cell_type": "markdown",
   "metadata": {},
   "source": [
    "# Feature selection"
   ]
  },
  {
   "cell_type": "code",
   "execution_count": 2,
   "metadata": {},
   "outputs": [],
   "source": [
    "import pandas as pd\n",
    "import numpy as np\n",
    "import torch\n",
    "import os\n",
    "os.chdir('/home/jiageng/Documents/fhr/pipeline/')\n",
    "import snf\n",
    "from sklearn.feature_selection import *"
   ]
  },
  {
   "cell_type": "code",
   "execution_count": 3,
   "metadata": {},
   "outputs": [],
   "source": [
    "fhr_data = pd.read_csv('../annotations/fhr-annotations.tsv',sep='\\t').set_index('PUBLIC_ID').query('risk != -1')\n",
    "fhr_data['risk'] += 1"
   ]
  },
  {
   "cell_type": "code",
   "execution_count": 4,
   "metadata": {},
   "outputs": [],
   "source": [
    "# subset to samples with fhr labels\n",
    "rnamat = pd.read_csv('../matrices/gene_exp_matrix.tsv',sep='\\t').set_index('PUBLIC_ID').drop(columns=['SAMPLE'])"
   ]
  },
  {
   "cell_type": "code",
   "execution_count": 5,
   "metadata": {},
   "outputs": [
    {
     "name": "stdout",
     "output_type": "stream",
     "text": [
      "701\n"
     ]
    }
   ],
   "source": [
    "public_ids = list(set(fhr_data.index).intersection(set(rnamat.index)))\n",
    "print(len(public_ids))"
   ]
  },
  {
   "cell_type": "code",
   "execution_count": 6,
   "metadata": {},
   "outputs": [],
   "source": [
    "def stdNormalize(df):\n",
    "    numeric_df = df.select_dtypes(include=[np.number])\n",
    "    std = numeric_df.std().fillna(1)\n",
    "    mean = numeric_df - numeric_df.mean()\n",
    "    numeric_df_norm = mean / std\n",
    "    nonnumeric_df = df.select_dtypes(exclude=[np.number])\n",
    "    df_norm = pd.concat([nonnumeric_df, numeric_df_norm], axis=1)\n",
    "    return df_norm"
   ]
  },
  {
   "cell_type": "code",
   "execution_count": 9,
   "metadata": {},
   "outputs": [],
   "source": [
    "X = stdNormalize(rnamat).loc[public_ids]\n",
    "y = fhr_data.loc[public_ids,'risk']"
   ]
  },
  {
   "cell_type": "markdown",
   "metadata": {},
   "source": [
    "Feature selection by specifying FDR of 0.05"
   ]
  },
  {
   "cell_type": "code",
   "execution_count": 91,
   "metadata": {},
   "outputs": [
    {
     "name": "stdout",
     "output_type": "stream",
     "text": [
      "(701, 18625)\n",
      "(701, 8141)\n"
     ]
    }
   ],
   "source": [
    "print(X.shape)\n",
    "fdr = SelectFdr(f_classif, alpha=0.05).fit(X, y)\n",
    "X_new = fdr.transform(X)\n",
    "print(X_new.shape)"
   ]
  },
  {
   "cell_type": "code",
   "execution_count": 92,
   "metadata": {},
   "outputs": [
    {
     "data": {
      "text/plain": [
       "(806, 8141)"
      ]
     },
     "execution_count": 92,
     "metadata": {},
     "output_type": "execute_result"
    }
   ],
   "source": [
    "rnamat_fdr = rnamat[fdr.get_feature_names_out()]\n",
    "rnamat_fdr.shape"
   ]
  },
  {
   "cell_type": "markdown",
   "metadata": {},
   "source": [
    "Feature selection by mutual information"
   ]
  },
  {
   "cell_type": "code",
   "execution_count": 74,
   "metadata": {},
   "outputs": [],
   "source": [
    "mifo = mutual_info_classif(X, y)"
   ]
  },
  {
   "cell_type": "code",
   "execution_count": 76,
   "metadata": {},
   "outputs": [
    {
     "data": {
      "image/png": "[encoded data removed]",
      "text/plain": [
       "<Figure size 640x480 with 1 Axes>"
      ]
     },
     "metadata": {},
     "output_type": "display_data"
    }
   ],
   "source": [
    "import matplotlib.pyplot as plt\n",
    "\n",
    "plt.hist(mifo[mifo>0], bins=100)\n",
    "plt.xlabel('Mutual Information')\n",
    "plt.ylabel('Frequency')\n",
    "plt.show()"
   ]
  },
  {
   "cell_type": "code",
   "execution_count": 121,
   "metadata": {},
   "outputs": [
    {
     "data": {
      "text/plain": [
       "63"
      ]
     },
     "execution_count": 121,
     "metadata": {},
     "output_type": "execute_result"
    }
   ],
   "source": [
    "len(mifo[mifo > 0.1])"
   ]
  },
  {
   "cell_type": "code",
   "execution_count": 122,
   "metadata": {},
   "outputs": [
    {
     "name": "stdout",
     "output_type": "stream",
     "text": [
      "63\n"
     ]
    }
   ],
   "source": [
    "genes_mifo = set(X.columns[np.where(mifo > 0.1)])\n",
    "genes_fdr = set(rnamat_fdr.columns)\n",
    "overlap = genes_fdr.intersection(genes_mifo)\n",
    "print(len(overlap))"
   ]
  },
  {
   "cell_type": "code",
   "execution_count": 123,
   "metadata": {},
   "outputs": [],
   "source": [
    "rnamat[list(overlap)].to_csv('../matrices/gene_exp_matrix_mi1e2.tsv',sep='\\t')"
   ]
  },
  {
   "cell_type": "code",
   "execution_count": 14,
   "metadata": {},
   "outputs": [],
   "source": [
    "ensgid = pd.read_csv('../annotations/ensgid-autosomal-proteincoding.txt',sep='\\t').set_index('Gene stable ID')"
   ]
  },
  {
   "cell_type": "code",
   "execution_count": 15,
   "metadata": {},
   "outputs": [
    {
     "ename": "NameError",
     "evalue": "name 'overlap' is not defined",
     "output_type": "error",
     "traceback": [
      "\u001b[0;31m---------------------------------------------------------------------------\u001b[0m",
      "\u001b[0;31mNameError\u001b[0m                                 Traceback (most recent call last)",
      "Cell \u001b[0;32mIn[15], line 1\u001b[0m\n\u001b[0;32m----> 1\u001b[0m \u001b[38;5;28;01mfor\u001b[39;00m gname \u001b[38;5;129;01min\u001b[39;00m ensgid\u001b[38;5;241m.\u001b[39mloc[\u001b[38;5;28mlist\u001b[39m(\u001b[43moverlap\u001b[49m)][\u001b[38;5;124m'\u001b[39m\u001b[38;5;124mGene name\u001b[39m\u001b[38;5;124m'\u001b[39m]:\n\u001b[1;32m      2\u001b[0m     \u001b[38;5;28mprint\u001b[39m(gname)\n",
      "\u001b[0;31mNameError\u001b[0m: name 'overlap' is not defined"
     ]
    }
   ],
   "source": [
    "for gname in ensgid.loc[list(overlap)]['Gene name']:\n",
    "    print(gname)"
   ]
  },
  {
   "cell_type": "markdown",
   "metadata": {},
   "source": [
    "Feature selection by K best method"
   ]
  },
  {
   "cell_type": "code",
   "execution_count": 10,
   "metadata": {},
   "outputs": [
    {
     "name": "stdout",
     "output_type": "stream",
     "text": [
      "(701, 18625)\n",
      "(701, 200)\n"
     ]
    }
   ],
   "source": [
    "k=200\n",
    "print(X.shape)\n",
    "kbest = SelectKBest(f_classif, k=k).fit(X,y)\n",
    "X_new = kbest.transform(X)\n",
    "print(X_new.shape)"
   ]
  },
  {
   "cell_type": "code",
   "execution_count": 11,
   "metadata": {},
   "outputs": [
    {
     "data": {
      "text/plain": [
       "(806, 200)"
      ]
     },
     "execution_count": 11,
     "metadata": {},
     "output_type": "execute_result"
    }
   ],
   "source": [
    "rnamat_k = rnamat[kbest.get_feature_names_out()]\n",
    "rnamat_k.shape"
   ]
  },
  {
   "cell_type": "code",
   "execution_count": 12,
   "metadata": {},
   "outputs": [],
   "source": [
    "rnamat_k.to_csv(f'../matrices/gene_exp_matrix_k{k}.tsv',sep='\\t')"
   ]
  },
  {
   "cell_type": "code",
   "execution_count": 16,
   "metadata": {},
   "outputs": [
    {
     "name": "stdout",
     "output_type": "stream",
     "text": [
      "KCNG1\n",
      "MYOM2\n",
      "DSG2\n",
      "LTBP1\n",
      "PKP2\n",
      "RPL18\n",
      "CDON\n",
      "PFKP\n",
      "FGFR3\n",
      "PVR\n",
      "NUAK1\n",
      "ADD2\n",
      "PAX2\n",
      "RBFOX1\n",
      "KCNN2\n",
      "IGSF9B\n",
      "TFAP2C\n",
      "FH\n",
      "BAMBI\n",
      "PCSK5\n",
      "PAK5\n",
      "ZNF516\n",
      "CORO1A\n",
      "METRN\n",
      "JPH1\n",
      "TRPS1\n",
      "OLFM2\n",
      "RPS16\n",
      "APLP1\n",
      "NOP53\n",
      "CLEC11A\n",
      "CLIP2\n",
      "SH3GL2\n",
      "ABCA2\n",
      "ATRNL1\n",
      "RPL34\n",
      "NSD2\n",
      "VWA5A\n",
      "CCND1\n",
      "PLSCR4\n",
      "CHST10\n",
      "PAPPA2\n",
      "SCAMP3\n",
      "KIF21B\n",
      "GPR89A\n",
      "APH1A\n",
      "CCND2\n",
      "TTLL2\n",
      "RPL21\n",
      "RPL5\n",
      "TWIST1\n",
      "NEUROG3\n",
      "PFDN5\n",
      "PLAAT1\n",
      "GNAI1\n",
      "FOXA1\n",
      "SH3BP4\n",
      "GADD45G\n",
      "KCNC3\n",
      "CDC73\n",
      "TIMM17A\n",
      "DTNA\n",
      "TBX3\n",
      "CTSV\n",
      "C6orf52\n",
      "FAM13A\n",
      "FBN2\n",
      "NOVA1\n",
      "PIF1\n",
      "RPS2\n",
      "RPL13A\n",
      "TIPRL\n",
      "ILDR2\n",
      "UFC1\n",
      "PFDN2\n",
      "PRCC\n",
      "MRPL24\n",
      "HDGF\n",
      "SF3B4\n",
      "TARS2\n",
      "ANP32E\n",
      "ENSA\n",
      "MRPL9\n",
      "SMYD2\n",
      "SUSD4\n",
      "ATP8B2\n",
      "JTB\n",
      "TPM3\n",
      "ILF2\n",
      "ARF1\n",
      "GUK1\n",
      "CDC42BPA\n",
      "MEIS1\n",
      "LRIG1\n",
      "MYH15\n",
      "MYO10\n",
      "PCYOX1L\n",
      "RPS3\n",
      "ALDOA\n",
      "MAGI1\n",
      "TMEM123\n",
      "MR1\n",
      "CLGN\n",
      "HNRNPU\n",
      "RETREG1\n",
      "ADAMTS1\n",
      "USP43\n",
      "AGAP1\n",
      "AUTS2\n",
      "DEDD\n",
      "PSMD4\n",
      "SHC1\n",
      "UBE2Q1\n",
      "FDPS\n",
      "PMF1\n",
      "AZGP1\n",
      "FBXO27\n",
      "MPP3\n",
      "RPL26\n",
      "PRKAA2\n",
      "SLC45A1\n",
      "HFM1\n",
      "ARPC5\n",
      "TRIM58\n",
      "H3-3A\n",
      "PMVK\n",
      "PBXIP1\n",
      "ABLIM2\n",
      "NSA2\n",
      "RPS14\n",
      "HSPA12A\n",
      "JAM3\n",
      "LARP6\n",
      "SCN3B\n",
      "SERPINB8\n",
      "CDYL2\n",
      "KLK13\n",
      "RAB26\n",
      "IRF2BP2\n",
      "DYNLRB2\n",
      "SLC50A1\n",
      "SCN9A\n",
      "SOCS6\n",
      "RPS9\n",
      "ZNF581\n",
      "MTX1\n",
      "CCDC106\n",
      "TLR10\n",
      "SH3BP5L\n",
      "CHRNA7\n",
      "DPP10\n",
      "GJC3\n",
      "KBTBD11\n",
      "FAM89B\n",
      "DPP7\n",
      "FZD8\n",
      "RPLP2\n",
      "MAF\n",
      "C14orf39\n",
      "RCC2\n",
      "DPM3\n",
      "NRIP1\n",
      "BACE2\n",
      "SPACA6\n",
      "FBXL7\n",
      "ROBO2\n",
      "GALNT17\n",
      "PBX1\n",
      "POLR1D\n",
      "RPS23\n",
      "MITF\n",
      "PTMA\n",
      "KIR2DL4\n",
      "OR2L13\n",
      "FAM72A\n",
      "H2AC13\n",
      "S100A2\n",
      "H2BC26\n",
      "UAP1L1\n",
      "CDC42SE1\n",
      "GLMP\n",
      "TSEN15\n",
      "COX20\n",
      "RACK1\n",
      "GABBR1\n",
      "ATP10A\n",
      "SYT3\n",
      "CLIC1\n",
      "ANG\n",
      "C14orf132\n",
      "TSPAN19\n",
      "C19orf81\n",
      "OR2W3\n",
      "SPRR2A\n",
      "TRMT9B\n",
      "EEF1G\n",
      "nan\n",
      "RBM8A\n",
      "KLF14\n",
      "PADI6\n"
     ]
    }
   ],
   "source": [
    "pd.set_option('display.max_rows', 500)\n",
    "ensgid.loc[kbest.get_feature_names_out()]\n",
    "pd.set_option('display.max_rows', 20)"
   ]
  }
 ],
 "metadata": {
  "kernelspec": {
   "display_name": ".venv",
   "language": "python",
   "name": "python3"
  },
  "language_info": {
   "codemirror_mode": {
    "name": "ipython",
    "version": 3
   },
   "file_extension": ".py",
   "mimetype": "text/x-python",
   "name": "python",
   "nbconvert_exporter": "python",
   "pygments_lexer": "ipython3",
   "version": "3.12.3"
  }
 },
 "nbformat": 4,
 "nbformat_minor": 2
}
