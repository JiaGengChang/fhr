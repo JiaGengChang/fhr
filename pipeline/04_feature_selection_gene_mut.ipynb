{
 "cells": [
  {
   "cell_type": "markdown",
   "metadata": {},
   "source": [
    "# Feature selection"
   ]
  },
  {
   "cell_type": "code",
   "execution_count": 1,
   "metadata": {},
   "outputs": [],
   "source": [
    "import pandas as pd\n",
    "import numpy as np\n",
    "import torch\n",
    "import os\n",
    "os.chdir('/home/jiageng/Documents/fhr/pipeline/')\n",
    "import snf\n",
    "from sklearn.feature_selection import *"
   ]
  },
  {
   "cell_type": "code",
   "execution_count": 2,
   "metadata": {},
   "outputs": [],
   "source": [
    "fhr_data = pd.read_csv('../annotations/fhr-annotations.tsv',sep='\\t').set_index('PUBLIC_ID').query('risk != -1')\n",
    "fhr_data['risk'] += 1"
   ]
  },
  {
   "cell_type": "code",
   "execution_count": 3,
   "metadata": {},
   "outputs": [],
   "source": [
    "# subset to samples with fhr labels\n",
    "data = pd.read_csv('../matrices/gene_mut_matrix.tsv.gz',sep='\\t').set_index('PUBLIC_ID').drop(columns=['SAMPLE'])"
   ]
  },
  {
   "cell_type": "code",
   "execution_count": 35,
   "metadata": {},
   "outputs": [],
   "source": [
    "ensgid = pd.read_csv('../annotations/ensgid-autosomal-proteincoding.txt',sep='\\t').set_index('Gene stable ID')"
   ]
  },
  {
   "cell_type": "code",
   "execution_count": 4,
   "metadata": {},
   "outputs": [
    {
     "name": "stdout",
     "output_type": "stream",
     "text": [
      "867\n"
     ]
    }
   ],
   "source": [
    "public_ids = list(set(fhr_data.index).intersection(set(data.index)))\n",
    "print(len(public_ids))"
   ]
  },
  {
   "cell_type": "code",
   "execution_count": 5,
   "metadata": {},
   "outputs": [],
   "source": [
    "def stdNormalize(df):\n",
    "    numeric_df = df.select_dtypes(include=[np.number])\n",
    "    std = numeric_df.std().fillna(1)\n",
    "    mean = numeric_df - numeric_df.mean()\n",
    "    numeric_df_norm = mean / std\n",
    "    nonnumeric_df = df.select_dtypes(exclude=[np.number])\n",
    "    df_norm = pd.concat([nonnumeric_df, numeric_df_norm], axis=1)\n",
    "    return df_norm"
   ]
  },
  {
   "cell_type": "code",
   "execution_count": 12,
   "metadata": {},
   "outputs": [],
   "source": [
    "X = data.loc[public_ids]\n",
    "y = fhr_data.loc[public_ids,'risk']"
   ]
  },
  {
   "cell_type": "code",
   "execution_count": 30,
   "metadata": {},
   "outputs": [
    {
     "name": "stdout",
     "output_type": "stream",
     "text": [
      "(867, 14301)\n"
     ]
    }
   ],
   "source": [
    "print(X.shape)"
   ]
  },
  {
   "cell_type": "markdown",
   "metadata": {},
   "source": [
    "Calculate metrics for feature selection"
   ]
  },
  {
   "cell_type": "code",
   "execution_count": 64,
   "metadata": {},
   "outputs": [],
   "source": [
    "mifo = mutual_info_classif(X, y)"
   ]
  },
  {
   "cell_type": "code",
   "execution_count": 66,
   "metadata": {},
   "outputs": [
    {
     "data": {
      "image/png": "[encoded data removed]",
      "text/plain": [
       "<Figure size 640x480 with 1 Axes>"
      ]
     },
     "metadata": {},
     "output_type": "display_data"
    }
   ],
   "source": [
    "import matplotlib.pyplot as plt\n",
    "\n",
    "plt.hist(mifo[mifo>0], bins=100)\n",
    "plt.title('Mutual Information for gene-level mutation counts')\n",
    "plt.xlabel('Mutual Information')\n",
    "plt.ylabel('Frequency')\n",
    "# plt.show()\n",
    "plt.savefig('../assets/mutual_info_mut.png')"
   ]
  },
  {
   "cell_type": "code",
   "execution_count": 13,
   "metadata": {},
   "outputs": [],
   "source": [
    "chi2_results = chi2(X, y)"
   ]
  },
  {
   "cell_type": "code",
   "execution_count": 28,
   "metadata": {},
   "outputs": [
    {
     "data": {
      "text/plain": [
       "np.float64(7.705571726527808e-20)"
      ]
     },
     "execution_count": 28,
     "metadata": {},
     "output_type": "execute_result"
    }
   ],
   "source": [
    "chi2_results[1][chi2_results[1] == chi2_results[1]].min()"
   ]
  },
  {
   "cell_type": "code",
   "execution_count": 29,
   "metadata": {},
   "outputs": [
    {
     "data": {
      "text/plain": [
       "14301"
      ]
     },
     "execution_count": 29,
     "metadata": {},
     "output_type": "execute_result"
    }
   ],
   "source": [
    "varthresh = VarianceThreshold(0)\n",
    "varthresh.fit(data)\n",
    "len(varthresh.get_feature_names_out())"
   ]
  },
  {
   "cell_type": "code",
   "execution_count": 31,
   "metadata": {},
   "outputs": [
    {
     "data": {
      "text/plain": [
       "array([0.0162205 , 0.00102564, 0.00204917, ..., 0.0030706 , 0.0030706 ,\n",
       "       0.00204917], shape=(14301,))"
      ]
     },
     "execution_count": 31,
     "metadata": {},
     "output_type": "execute_result"
    }
   ],
   "source": [
    "varthresh.variances_"
   ]
  },
  {
   "cell_type": "markdown",
   "metadata": {},
   "source": [
    "Family wise error rate significance threshold of 0.05"
   ]
  },
  {
   "cell_type": "code",
   "execution_count": 32,
   "metadata": {},
   "outputs": [
    {
     "data": {
      "text/plain": [
       "np.int64(11)"
      ]
     },
     "execution_count": 32,
     "metadata": {},
     "output_type": "execute_result"
    }
   ],
   "source": [
    "fwe = SelectFwe(chi2, alpha=0.05)\n",
    "fwe.fit(X, y)\n",
    "sum(fwe.get_support())"
   ]
  },
  {
   "cell_type": "code",
   "execution_count": 36,
   "metadata": {},
   "outputs": [
    {
     "data": {
      "text/html": [
       "<div>\n",
       "<style scoped>\n",
       "    .dataframe tbody tr th:only-of-type {\n",
       "        vertical-align: middle;\n",
       "    }\n",
       "\n",
       "    .dataframe tbody tr th {\n",
       "        vertical-align: top;\n",
       "    }\n",
       "\n",
       "    .dataframe thead th {\n",
       "        text-align: right;\n",
       "    }\n",
       "</style>\n",
       "<table border=\"1\" class=\"dataframe\">\n",
       "  <thead>\n",
       "    <tr style=\"text-align: right;\">\n",
       "      <th></th>\n",
       "      <th>Gene name</th>\n",
       "      <th>Chromosome/scaffold name</th>\n",
       "      <th>Gene start (bp)</th>\n",
       "      <th>Gene end (bp)</th>\n",
       "    </tr>\n",
       "    <tr>\n",
       "      <th>Gene stable ID</th>\n",
       "      <th></th>\n",
       "      <th></th>\n",
       "      <th></th>\n",
       "      <th></th>\n",
       "    </tr>\n",
       "  </thead>\n",
       "  <tbody>\n",
       "    <tr>\n",
       "      <th>ENSG00000204414</th>\n",
       "      <td>CSHL1</td>\n",
       "      <td>17</td>\n",
       "      <td>63909597</td>\n",
       "      <td>63911341</td>\n",
       "    </tr>\n",
       "    <tr>\n",
       "      <th>ENSG00000183921</th>\n",
       "      <td>SDR42E2</td>\n",
       "      <td>16</td>\n",
       "      <td>22162492</td>\n",
       "      <td>22192208</td>\n",
       "    </tr>\n",
       "    <tr>\n",
       "      <th>ENSG00000167984</th>\n",
       "      <td>NLRC3</td>\n",
       "      <td>16</td>\n",
       "      <td>3539033</td>\n",
       "      <td>3577403</td>\n",
       "    </tr>\n",
       "    <tr>\n",
       "      <th>ENSG00000095970</th>\n",
       "      <td>TREM2</td>\n",
       "      <td>6</td>\n",
       "      <td>41158506</td>\n",
       "      <td>41163186</td>\n",
       "    </tr>\n",
       "    <tr>\n",
       "      <th>ENSG00000104415</th>\n",
       "      <td>CCN4</td>\n",
       "      <td>8</td>\n",
       "      <td>133191039</td>\n",
       "      <td>133231690</td>\n",
       "    </tr>\n",
       "    <tr>\n",
       "      <th>ENSG00000129353</th>\n",
       "      <td>SLC44A2</td>\n",
       "      <td>19</td>\n",
       "      <td>10602457</td>\n",
       "      <td>10644557</td>\n",
       "    </tr>\n",
       "    <tr>\n",
       "      <th>ENSG00000006210</th>\n",
       "      <td>CX3CL1</td>\n",
       "      <td>16</td>\n",
       "      <td>57372477</td>\n",
       "      <td>57385044</td>\n",
       "    </tr>\n",
       "    <tr>\n",
       "      <th>ENSG00000068078</th>\n",
       "      <td>FGFR3</td>\n",
       "      <td>4</td>\n",
       "      <td>1793293</td>\n",
       "      <td>1808872</td>\n",
       "    </tr>\n",
       "    <tr>\n",
       "      <th>ENSG00000178573</th>\n",
       "      <td>MAF</td>\n",
       "      <td>16</td>\n",
       "      <td>79585843</td>\n",
       "      <td>79600737</td>\n",
       "    </tr>\n",
       "    <tr>\n",
       "      <th>ENSG00000185372</th>\n",
       "      <td>OR2V1</td>\n",
       "      <td>5</td>\n",
       "      <td>181123122</td>\n",
       "      <td>181131169</td>\n",
       "    </tr>\n",
       "    <tr>\n",
       "      <th>ENSG00000141510</th>\n",
       "      <td>TP53</td>\n",
       "      <td>17</td>\n",
       "      <td>7661779</td>\n",
       "      <td>7687546</td>\n",
       "    </tr>\n",
       "  </tbody>\n",
       "</table>\n",
       "</div>"
      ],
      "text/plain": [
       "                Gene name  Chromosome/scaffold name  Gene start (bp)  \\\n",
       "Gene stable ID                                                         \n",
       "ENSG00000204414     CSHL1                        17         63909597   \n",
       "ENSG00000183921   SDR42E2                        16         22162492   \n",
       "ENSG00000167984     NLRC3                        16          3539033   \n",
       "ENSG00000095970     TREM2                         6         41158506   \n",
       "ENSG00000104415      CCN4                         8        133191039   \n",
       "ENSG00000129353   SLC44A2                        19         10602457   \n",
       "ENSG00000006210    CX3CL1                        16         57372477   \n",
       "ENSG00000068078     FGFR3                         4          1793293   \n",
       "ENSG00000178573       MAF                        16         79585843   \n",
       "ENSG00000185372     OR2V1                         5        181123122   \n",
       "ENSG00000141510      TP53                        17          7661779   \n",
       "\n",
       "                 Gene end (bp)  \n",
       "Gene stable ID                  \n",
       "ENSG00000204414       63911341  \n",
       "ENSG00000183921       22192208  \n",
       "ENSG00000167984        3577403  \n",
       "ENSG00000095970       41163186  \n",
       "ENSG00000104415      133231690  \n",
       "ENSG00000129353       10644557  \n",
       "ENSG00000006210       57385044  \n",
       "ENSG00000068078        1808872  \n",
       "ENSG00000178573       79600737  \n",
       "ENSG00000185372      181131169  \n",
       "ENSG00000141510        7687546  "
      ]
     },
     "execution_count": 36,
     "metadata": {},
     "output_type": "execute_result"
    }
   ],
   "source": [
    "ensgid.loc[fwe.get_feature_names_out()]"
   ]
  },
  {
   "cell_type": "code",
   "execution_count": 33,
   "metadata": {},
   "outputs": [
    {
     "name": "stdout",
     "output_type": "stream",
     "text": [
      "(867, 11)\n"
     ]
    }
   ],
   "source": [
    "Xfwe = fwe.fit_transform(X, y)\n",
    "print(Xfwe.shape)"
   ]
  },
  {
   "cell_type": "markdown",
   "metadata": {},
   "source": [
    "False discovery rate significance threshold of 0.05"
   ]
  },
  {
   "cell_type": "code",
   "execution_count": 37,
   "metadata": {},
   "outputs": [
    {
     "data": {
      "text/plain": [
       "np.int64(11)"
      ]
     },
     "execution_count": 37,
     "metadata": {},
     "output_type": "execute_result"
    }
   ],
   "source": [
    "fdr = SelectFdr(chi2, alpha=0.05)\n",
    "fdr.fit(X, y)\n",
    "sum(fdr.get_support())"
   ]
  },
  {
   "cell_type": "code",
   "execution_count": 47,
   "metadata": {},
   "outputs": [
    {
     "data": {
      "text/plain": [
       "ENSG00000204414     5\n",
       "ENSG00000183921     3\n",
       "ENSG00000167984    10\n",
       "ENSG00000095970     3\n",
       "ENSG00000104415     3\n",
       "ENSG00000129353     8\n",
       "ENSG00000006210     3\n",
       "ENSG00000068078    43\n",
       "ENSG00000178573    21\n",
       "ENSG00000185372     3\n",
       "ENSG00000141510    53\n",
       "dtype: int64"
      ]
     },
     "execution_count": 47,
     "metadata": {},
     "output_type": "execute_result"
    }
   ],
   "source": [
    "X[fdr.get_feature_names_out()].sum()"
   ]
  },
  {
   "cell_type": "code",
   "execution_count": 38,
   "metadata": {},
   "outputs": [
    {
     "data": {
      "text/html": [
       "<div>\n",
       "<style scoped>\n",
       "    .dataframe tbody tr th:only-of-type {\n",
       "        vertical-align: middle;\n",
       "    }\n",
       "\n",
       "    .dataframe tbody tr th {\n",
       "        vertical-align: top;\n",
       "    }\n",
       "\n",
       "    .dataframe thead th {\n",
       "        text-align: right;\n",
       "    }\n",
       "</style>\n",
       "<table border=\"1\" class=\"dataframe\">\n",
       "  <thead>\n",
       "    <tr style=\"text-align: right;\">\n",
       "      <th></th>\n",
       "      <th>Gene name</th>\n",
       "      <th>Chromosome/scaffold name</th>\n",
       "      <th>Gene start (bp)</th>\n",
       "      <th>Gene end (bp)</th>\n",
       "    </tr>\n",
       "    <tr>\n",
       "      <th>Gene stable ID</th>\n",
       "      <th></th>\n",
       "      <th></th>\n",
       "      <th></th>\n",
       "      <th></th>\n",
       "    </tr>\n",
       "  </thead>\n",
       "  <tbody>\n",
       "    <tr>\n",
       "      <th>ENSG00000204414</th>\n",
       "      <td>CSHL1</td>\n",
       "      <td>17</td>\n",
       "      <td>63909597</td>\n",
       "      <td>63911341</td>\n",
       "    </tr>\n",
       "    <tr>\n",
       "      <th>ENSG00000183921</th>\n",
       "      <td>SDR42E2</td>\n",
       "      <td>16</td>\n",
       "      <td>22162492</td>\n",
       "      <td>22192208</td>\n",
       "    </tr>\n",
       "    <tr>\n",
       "      <th>ENSG00000167984</th>\n",
       "      <td>NLRC3</td>\n",
       "      <td>16</td>\n",
       "      <td>3539033</td>\n",
       "      <td>3577403</td>\n",
       "    </tr>\n",
       "    <tr>\n",
       "      <th>ENSG00000095970</th>\n",
       "      <td>TREM2</td>\n",
       "      <td>6</td>\n",
       "      <td>41158506</td>\n",
       "      <td>41163186</td>\n",
       "    </tr>\n",
       "    <tr>\n",
       "      <th>ENSG00000104415</th>\n",
       "      <td>CCN4</td>\n",
       "      <td>8</td>\n",
       "      <td>133191039</td>\n",
       "      <td>133231690</td>\n",
       "    </tr>\n",
       "    <tr>\n",
       "      <th>ENSG00000129353</th>\n",
       "      <td>SLC44A2</td>\n",
       "      <td>19</td>\n",
       "      <td>10602457</td>\n",
       "      <td>10644557</td>\n",
       "    </tr>\n",
       "    <tr>\n",
       "      <th>ENSG00000006210</th>\n",
       "      <td>CX3CL1</td>\n",
       "      <td>16</td>\n",
       "      <td>57372477</td>\n",
       "      <td>57385044</td>\n",
       "    </tr>\n",
       "    <tr>\n",
       "      <th>ENSG00000068078</th>\n",
       "      <td>FGFR3</td>\n",
       "      <td>4</td>\n",
       "      <td>1793293</td>\n",
       "      <td>1808872</td>\n",
       "    </tr>\n",
       "    <tr>\n",
       "      <th>ENSG00000178573</th>\n",
       "      <td>MAF</td>\n",
       "      <td>16</td>\n",
       "      <td>79585843</td>\n",
       "      <td>79600737</td>\n",
       "    </tr>\n",
       "    <tr>\n",
       "      <th>ENSG00000185372</th>\n",
       "      <td>OR2V1</td>\n",
       "      <td>5</td>\n",
       "      <td>181123122</td>\n",
       "      <td>181131169</td>\n",
       "    </tr>\n",
       "    <tr>\n",
       "      <th>ENSG00000141510</th>\n",
       "      <td>TP53</td>\n",
       "      <td>17</td>\n",
       "      <td>7661779</td>\n",
       "      <td>7687546</td>\n",
       "    </tr>\n",
       "  </tbody>\n",
       "</table>\n",
       "</div>"
      ],
      "text/plain": [
       "                Gene name  Chromosome/scaffold name  Gene start (bp)  \\\n",
       "Gene stable ID                                                         \n",
       "ENSG00000204414     CSHL1                        17         63909597   \n",
       "ENSG00000183921   SDR42E2                        16         22162492   \n",
       "ENSG00000167984     NLRC3                        16          3539033   \n",
       "ENSG00000095970     TREM2                         6         41158506   \n",
       "ENSG00000104415      CCN4                         8        133191039   \n",
       "ENSG00000129353   SLC44A2                        19         10602457   \n",
       "ENSG00000006210    CX3CL1                        16         57372477   \n",
       "ENSG00000068078     FGFR3                         4          1793293   \n",
       "ENSG00000178573       MAF                        16         79585843   \n",
       "ENSG00000185372     OR2V1                         5        181123122   \n",
       "ENSG00000141510      TP53                        17          7661779   \n",
       "\n",
       "                 Gene end (bp)  \n",
       "Gene stable ID                  \n",
       "ENSG00000204414       63911341  \n",
       "ENSG00000183921       22192208  \n",
       "ENSG00000167984        3577403  \n",
       "ENSG00000095970       41163186  \n",
       "ENSG00000104415      133231690  \n",
       "ENSG00000129353       10644557  \n",
       "ENSG00000006210       57385044  \n",
       "ENSG00000068078        1808872  \n",
       "ENSG00000178573       79600737  \n",
       "ENSG00000185372      181131169  \n",
       "ENSG00000141510        7687546  "
      ]
     },
     "execution_count": 38,
     "metadata": {},
     "output_type": "execute_result"
    }
   ],
   "source": [
    "ensgid.loc[fdr.get_feature_names_out()]"
   ]
  },
  {
   "cell_type": "markdown",
   "metadata": {},
   "source": [
    "False positive rate test significance threshold of 0.05"
   ]
  },
  {
   "cell_type": "code",
   "execution_count": 39,
   "metadata": {},
   "outputs": [
    {
     "data": {
      "text/plain": [
       "np.int64(901)"
      ]
     },
     "execution_count": 39,
     "metadata": {},
     "output_type": "execute_result"
    }
   ],
   "source": [
    "fpr = SelectFpr(chi2, alpha=0.05)\n",
    "fpr.fit(X, y)\n",
    "sum(fpr.get_support())"
   ]
  },
  {
   "cell_type": "code",
   "execution_count": 60,
   "metadata": {},
   "outputs": [],
   "source": [
    "mut_scores = pd.DataFrame({'gid':data.columns, \n",
    "                           'freq': data.sum(axis=0).values,\n",
    "                          'variance':varthresh.variances_,\n",
    "                          'mutual_info':mifo, \n",
    "                          'chi2_x': chi2_results[0],\n",
    "                          'chi2_p': chi2_results[1],\n",
    "                          'fwe_alpha_5e2':fwe.get_support(),\n",
    "                          'fdr_alpha_5e2':fdr.get_support(),\n",
    "                          'fpr_alpha_5e2':fpr.get_support(),\n",
    "                         })\n",
    "mut_scores.to_csv('../scores/gene_mut_scores.tsv',sep='\\t',index=False)"
   ]
  },
  {
   "cell_type": "markdown",
   "metadata": {},
   "source": [
    "# Pick desired genes"
   ]
  },
  {
   "cell_type": "code",
   "execution_count": 92,
   "metadata": {},
   "outputs": [
    {
     "name": "stdout",
     "output_type": "stream",
     "text": [
      "10\n"
     ]
    }
   ],
   "source": [
    "desired_gid = [gid for gid in fdr.get_feature_names_out() if gid != \"ENSG00000141510\"]\n",
    "print(len(desired_gid))\n",
    "data[desired_gid].to_csv('../matrices/gene_mut_matrix_fdr5e2.tsv',sep='\\t')"
   ]
  },
  {
   "cell_type": "code",
   "execution_count": null,
   "metadata": {},
   "outputs": [
    {
     "name": "stdout",
     "output_type": "stream",
     "text": [
      "86\n"
     ]
    }
   ],
   "source": [
    "desired_gid = mut_scores.query('freq>=10 and chi2_p < 0.05').gid \n",
    "print(len(desired_gid))"
   ]
  },
  {
   "cell_type": "code",
   "execution_count": 81,
   "metadata": {},
   "outputs": [],
   "source": [
    "data[desired_gid].to_csv('../matrices/gene_mut_matrix_gt10_p5e2.tsv',sep='\\t')"
   ]
  },
  {
   "cell_type": "markdown",
   "metadata": {},
   "source": [
    "Remove TP53 as a predictor because it is used to define GHR and FHR labels"
   ]
  },
  {
   "cell_type": "code",
   "execution_count": null,
   "metadata": {},
   "outputs": [
    {
     "name": "stdout",
     "output_type": "stream",
     "text": [
      "85\n"
     ]
    }
   ],
   "source": [
    "desired_gid = mut_scores.query('freq>=10 and chi2_p < 0.05 and gid != \"ENSG00000141510\"').gid # remove TP53\n",
    "print(len(desired_gid))"
   ]
  },
  {
   "cell_type": "code",
   "execution_count": null,
   "metadata": {},
   "outputs": [],
   "source": [
    "data[desired_gid].to_csv('../matrices/gene_mut_matrix_gt10_p5e2_noTP53.tsv',sep='\\t')"
   ]
  },
  {
   "cell_type": "code",
   "execution_count": null,
   "metadata": {},
   "outputs": [],
   "source": []
  }
 ],
 "metadata": {
  "kernelspec": {
   "display_name": ".venv",
   "language": "python",
   "name": "python3"
  },
  "language_info": {
   "codemirror_mode": {
    "name": "ipython",
    "version": 3
   },
   "file_extension": ".py",
   "mimetype": "text/x-python",
   "name": "python",
   "nbconvert_exporter": "python",
   "pygments_lexer": "ipython3",
   "version": "3.12.3"
  }
 },
 "nbformat": 4,
 "nbformat_minor": 2
}
