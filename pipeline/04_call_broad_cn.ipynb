{
 "cells": [
  {
   "cell_type": "code",
   "execution_count": 1,
   "metadata": {},
   "outputs": [],
   "source": [
    "import pandas as pd \n",
    "import numpy as np "
   ]
  },
  {
   "cell_type": "code",
   "execution_count": 2,
   "metadata": {},
   "outputs": [
    {
     "name": "stdout",
     "output_type": "stream",
     "text": [
      "df_fish (924, 175)\n"
     ]
    }
   ],
   "source": [
    "df_fish = '/home/jiageng/Documents/fhr/data/SeqFISH Files_MMRF_CoMMpass_IA22_genome_gatk_cna_seqFISH.tsv'\n",
    "df_fish = pd.read_csv(df_fish, sep='\\t').assign(PUBLIC_ID=lambda x: x['SAMPLE'].str.extract(r'(MMRF_\\d{4})')).sort_values('SAMPLE').groupby('PUBLIC_ID').head(1)\n",
    "print('df_fish',df_fish.shape)\n"
   ]
  },
  {
   "cell_type": "code",
   "execution_count": 15,
   "metadata": {},
   "outputs": [
    {
     "name": "stdout",
     "output_type": "stream",
     "text": [
      "(924, 42)\n"
     ]
    }
   ],
   "source": [
    "matfish = df_fish.filter(regex = r'PUBLIC_ID|SeqWGS_Cp_\\d+[pq]\\d+$').set_index('PUBLIC_ID')\n",
    "print(matfish.shape)"
   ]
  },
  {
   "cell_type": "code",
   "execution_count": null,
   "metadata": {},
   "outputs": [],
   "source": [
    "matfish.to_csv('../matrices/broad_cn_matrix.tsv',sep='\\t')"
   ]
  }
 ],
 "metadata": {
  "kernelspec": {
   "display_name": ".venv",
   "language": "python",
   "name": "python3"
  },
  "language_info": {
   "codemirror_mode": {
    "name": "ipython",
    "version": 3
   },
   "file_extension": ".py",
   "mimetype": "text/x-python",
   "name": "python",
   "nbconvert_exporter": "python",
   "pygments_lexer": "ipython3",
   "version": "3.12.3"
  }
 },
 "nbformat": 4,
 "nbformat_minor": 2
}
